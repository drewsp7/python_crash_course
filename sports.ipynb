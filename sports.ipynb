{
 "cells": [
  {
   "cell_type": "code",
   "execution_count": null,
   "metadata": {
    "collapsed": true
   },
   "outputs": [],
   "source": [
    "class Sports():\n",
    "    \"\"\"basic attempt to model a sports team\"\"\"\n",
    "    def __init__(self,name,location):\n",
    "        \"\"\"initialize the sports team attributes\"\"\"\n",
    "        self.name = name\n",
    "        self.location = location\n",
    "        \n",
    "    def describe_team:\n",
    "        \"\"\"print statement describe team name and location\"\"\"\n",
    "        print(\"The \" + self.name + \" are located in: \" + self.location)\n",
    "        "
   ]
  }
 ],
 "metadata": {
  "kernelspec": {
   "display_name": "Python 3",
   "language": "python",
   "name": "python3"
  },
  "language_info": {
   "codemirror_mode": {
    "name": "ipython",
    "version": 3
   },
   "file_extension": ".py",
   "mimetype": "text/x-python",
   "name": "python",
   "nbconvert_exporter": "python",
   "pygments_lexer": "ipython3",
   "version": "3.6.0"
  }
 },
 "nbformat": 4,
 "nbformat_minor": 2
}
