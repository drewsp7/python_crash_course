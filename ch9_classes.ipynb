{
 "cells": [
  {
   "cell_type": "markdown",
   "metadata": {},
   "source": [
    "# Chapter 9 Classes"
   ]
  },
  {
   "cell_type": "code",
   "execution_count": 63,
   "metadata": {
    "collapsed": false
   },
   "outputs": [
    {
     "name": "stdout",
     "output_type": "stream",
     "text": [
      "2017 chevy spark\n",
      "This car has 0 miles on it.\n"
     ]
    }
   ],
   "source": [
    "class Car():\n",
    "    \n",
    "    def __init__(self , make, model, year):\n",
    "        \"\"\"Initialize attributes to describe a car.\"\"\"\n",
    "        self.make = make\n",
    "        self.model = model\n",
    "        self.year = year\n",
    "        self.odometer_reading = 0\n",
    "        \n",
    "    def get_descriptive_name(self):\n",
    "        \"\"\"Return a neatly formatted descriptive name.\"\"\"\n",
    "        long_name = str(self.year) + ' ' + self.make + ' ' + self.model\n",
    "        return long_name\n",
    "    \n",
    "    def read_odometer(self):\n",
    "        \"\"\"Reads the mileage of car\"\"\"\n",
    "        print(\"This car has \" + str(self.odometer_reading) + \" miles on it.\")\n",
    "        \n",
    "my_car = Car('chevy' , 'spark' , '2017')\n",
    "print(my_car.get_descriptive_name())\n",
    "my_car.read_odometer()"
   ]
  },
  {
   "cell_type": "markdown",
   "metadata": {},
   "source": [
    "# Exercises"
   ]
  },
  {
   "cell_type": "code",
   "execution_count": 39,
   "metadata": {
    "collapsed": false
   },
   "outputs": [],
   "source": [
    "\"\"\"9.1 make a class called restaurant and store two attributes: name and cuisine. Make method called describe_rest()\n",
    "that prints these two things of info, and a method called open_rest that indicates restaurant is open\n",
    "\"\"\"\n",
    "class Restaurant(): #note capitalized letter\n",
    "    \"\"\"create restaurant attributes\"\"\"\n",
    "    def __init__(self, name , cuisine):\n",
    "        \"\"\"initalize restaurant attributes\"\"\"\n",
    "        self.name = name.title()\n",
    "        self.cuisine = cuisine.title()\n",
    "        self.number_served = 0\n",
    "        \n",
    "    def describe_rest(self):\n",
    "        \"\"\"shows common details for restaurant\"\"\"\n",
    "        return self.name + \" makes \" + self.cuisine + \" food.\"\n",
    "    \n",
    "    def open_rest(self):\n",
    "        \"\"\"tells when restaurant is open\"\"\"\n",
    "        time_open = 6\n",
    "        open_time = self.name + \" is open at \" + str(time_open) \n",
    "        return open_time\n",
    "    \n",
    "#9.4 update 9.1 with numbers served and update again\n",
    "\n",
    "    def set_number_served(self, number_served):\n",
    "        \"\"\"Allow user to set the number of customers served.\"\"\"\n",
    "        self.number_served = number_served\n",
    "        \n",
    "    def increment_number_served(self, additional_served):\n",
    "        \"\"\"Allow user to increment the number of customers served.\"\"\"\n",
    "        self.number_served += additional_served"
   ]
  },
  {
   "cell_type": "code",
   "execution_count": 40,
   "metadata": {
    "collapsed": false
   },
   "outputs": [
    {
     "name": "stdout",
     "output_type": "stream",
     "text": [
      "A16 makes Italian food.\n",
      "A16 is open at 6\n",
      "\n",
      "Number served: 0\n",
      "\n",
      "Number served: 400\n",
      "\n",
      "Number served: 1257\n",
      "\n",
      "Number served: 1857\n"
     ]
    }
   ],
   "source": [
    "restaurant = Restaurant('a16' , 'italian')\n",
    "print(restaurant.describe_rest())\n",
    "print(restaurant.open_rest())\n",
    "\n",
    "print(\"\\nNumber served: \" + str(restaurant.number_served))\n",
    "\n",
    "restaurant.number_served = 400              #updates numbers\n",
    "print(\"\\nNumber served: \" + str(restaurant.number_served))\n",
    "\n",
    "restaurant.set_number_served(1257)\n",
    "print(\"\\nNumber served: \" + str(restaurant.number_served))\n",
    "\n",
    "restaurant.increment_number_served(600)                # add incremental to the method increment_number_served\n",
    "print(\"\\nNumber served: \" + str(restaurant.number_served))\n",
    "\n"
   ]
  },
  {
   "cell_type": "code",
   "execution_count": 41,
   "metadata": {
    "collapsed": false
   },
   "outputs": [
    {
     "name": "stdout",
     "output_type": "stream",
     "text": [
      "Causewell'S makes American food.\n",
      "Momonoko makes Japanese food.\n",
      "Marina Bar makes Brunch food.\n",
      "Causewell'S is open at 6\n"
     ]
    }
   ],
   "source": [
    "\"\"\"9.2 Start with class from Exercse 9.1. Creat ethree different instances from the class and call \n",
    "describe_rest() for each instance\"\"\"\n",
    "rest1 = Restaurant(\"Causewell's\" , \"American\")\n",
    "rest2 = Restaurant(\"Momonoko\" , \"Japanese\")\n",
    "rest3 = Restaurant(\"Marina Bar\" , \"brunch\")\n",
    "\n",
    "print(rest1.describe_rest())\n",
    "print(rest2.describe_rest())\n",
    "print(rest3.describe_rest())\n",
    "\n",
    "print(rest1.open_rest())\n"
   ]
  },
  {
   "cell_type": "code",
   "execution_count": 42,
   "metadata": {
    "collapsed": false
   },
   "outputs": [],
   "source": [
    "\"\"\"9.3 Users: Make a class called User. Create two attributes called first_name and last_name, and then create \n",
    "several other attributes that are typically stored in a user profile. Make method caled describe_use() that prints\n",
    "a summary of the user's info. Make another method called greet_user() that prints personalized greeting to user. Create\n",
    "several instances representing different users, and clal both methods for each user.\n",
    "\"\"\"\n",
    "\n",
    "class User():\n",
    "    \"\"\"recreate instances of user\"\"\"\n",
    "    \n",
    "    def __init__(self , first_name , last_name , email):\n",
    "        \"\"\"initialize items\"\"\"\n",
    "        self.first_name = first_name.title()\n",
    "        self.last_name = last_name.title()\n",
    "        self.email = email\n",
    "        self.login_attempts = 0  #9.5 add an attribute called login_attempts, set to 0.\n",
    "        \n",
    "    def describe_user(self):\n",
    "        \"\"\"id the user and gives general info\"\"\"\n",
    "        describe = \"\\nGeneral info of user: \" + self.first_name + \" \" + self.last_name + \" \" + self.email\n",
    "        return describe\n",
    "    \n",
    "    def greet_user(self): \n",
    "        \"\"\"welcomes the user\"\"\"\n",
    "        message = \"Welcome \" + self.first_name +  \" \" + self.last_name + \". Here is some general info: \\n\\t\" + self.email\n",
    "        return message\n",
    "    \n",
    "    def increment_login_attempts(self):\n",
    "        \"\"\"increments login_attempts by 1\"\"\"\n",
    "        self.login_attempts += 1 \n",
    "        \n",
    "    def reset_login_attempts(self):\n",
    "        \"\"\"resets value of login_attempts to 0\"\"\"\n",
    "        self.login_attempts = 0 "
   ]
  },
  {
   "cell_type": "code",
   "execution_count": 43,
   "metadata": {
    "collapsed": false
   },
   "outputs": [
    {
     "name": "stdout",
     "output_type": "stream",
     "text": [
      "\n",
      "General info of user: Drew Patch drewp@yahoo.com\n",
      "Welcome Drew Patch. Here is some general info: \n",
      "\tdrewp@yahoo.com\n",
      "You logged in 2 times.\n"
     ]
    }
   ],
   "source": [
    "#initialize...\n",
    "new_user = User('drew' , 'patch' , 'drewp@yahoo.com')\n",
    "print(new_user.describe_user())\n",
    "print(new_user.greet_user())\n",
    "new_user.increment_login_attempts()\n",
    "new_user.increment_login_attempts()\n",
    "print(\"You logged in \" + str(new_user.login_attempts) + \" times.\")\n",
    "#str(eric.login_attempts))"
   ]
  },
  {
   "cell_type": "code",
   "execution_count": 44,
   "metadata": {
    "collapsed": false
   },
   "outputs": [
    {
     "name": "stdout",
     "output_type": "stream",
     "text": [
      "We set your login back to None\n"
     ]
    }
   ],
   "source": [
    "new_user.reset_login_attempts()\n",
    "print(\"We set your login back to \" + str(new_user.reset_login_attempts()))"
   ]
  },
  {
   "cell_type": "code",
   "execution_count": 45,
   "metadata": {
    "collapsed": false
   },
   "outputs": [],
   "source": [
    "\"\"\"9.6 Ice Cream Stand - An ice cream stand is a specific kind of restaurant. Write a class called IceCreamStand\n",
    "that inherits from the Restaurant class you wrote in Exercise 9-1(page 166) or exercise 9.4 (page 171). Either \n",
    "version of the class will work; just pick one you like better. Add an attribute called flavors that stores a list\n",
    "of ice cream flavors. WRite a method that displays these flavors. Create an instance of IceCreamStand, and call this method.\"\"\"\n",
    "\n",
    "class IceCreamStand(Restaurant):\n",
    "    \"\"\"make an ice cream stand with same attribures of larger restaurant class\"\"\"\n",
    "    def __init__(self, name, cuisine_type = 'ice cream' ):\n",
    "        \"\"\"initialize the lsit of flavors for icre cream stand\"\"\"\n",
    "        super().__init__(name, cuisine_type) \n",
    "        self.flavors = []\n",
    "        \n",
    "    def show_flavors(self):\n",
    "        \"\"\"Display the available flavors\"\"\"\n",
    "        print(\"\\nWe have the following flavors available:\")\n",
    "        for flavor in self.flavors:\n",
    "            print(\"- \" + flavor.title())\n",
    " "
   ]
  },
  {
   "cell_type": "code",
   "execution_count": 46,
   "metadata": {
    "collapsed": false
   },
   "outputs": [
    {
     "name": "stdout",
     "output_type": "stream",
     "text": [
      "Rusty'S makes Ice Cream food.\n",
      "\n",
      "We have the following flavors available:\n",
      "- Chocolate\n",
      "- Vanilla\n",
      "- Strawberry\n",
      "- Blueberry\n",
      "- Custard\n"
     ]
    }
   ],
   "source": [
    "cream_stand = IceCreamStand(\"Rusty's\")\n",
    "cream_stand.flavors = ['chocolate' , 'vanilla' , 'strawberry' , 'blueberry' , 'custard']\n",
    "print(cream_stand.describe_rest())\n",
    "cream_stand.show_flavors()"
   ]
  },
  {
   "cell_type": "code",
   "execution_count": 47,
   "metadata": {
    "collapsed": false
   },
   "outputs": [],
   "source": [
    "\"\"\"9.7 Admin: An admin is a special kind of user. Write a class caleld Admin that inherest from the User class you wrote\n",
    "in Exercise 9-3\"\"\"\n",
    "\n",
    "class Admin(User):\n",
    "    \"\"\"create Admin controls with same fields as User class\"\"\"\n",
    "    def __init__self(self, first_name , last_name, email):\n",
    "        super().__init__(first_name , last_name , email)\n",
    "        # initialize empty set of privileges\n",
    "        self.privileges = Privileges()"
   ]
  },
  {
   "cell_type": "code",
   "execution_count": 48,
   "metadata": {
    "collapsed": false
   },
   "outputs": [
    {
     "name": "stdout",
     "output_type": "stream",
     "text": [
      "\n",
      "General info of user: Drew Picciano teset@gmail.com\n"
     ]
    }
   ],
   "source": [
    "admin_user = Admin(\"Drew\" , 'picciano' , 'teset@gmail.com')\n",
    "print(admin_user.describe_user())\n",
    "admin_user.privileges = ['Can add post' , 'Can delete post' , 'can ban user']"
   ]
  },
  {
   "cell_type": "code",
   "execution_count": 53,
   "metadata": {
    "collapsed": true
   },
   "outputs": [],
   "source": [
    "\"\"\"9.8 Privileges: Write a separate Privileges class. The class should have one attribute, privileges, that stores a list \n",
    "of strings as desribed in exercise 9.7. Move the show_privileges() method to this class. Make a Privileges instance\n",
    "as an attribute in the Admin class. Create a new instance of Admin and use your method to show its privileges\"\"\"\n",
    "\n",
    "class Privileges():\n",
    "    \"\"\"simple attempt to represent privileges fo rthe Admin person\"\"\"\n",
    "    def __init__self(self, privileges=[] ):\n",
    "        super().__init__(first_name , last_name , email)\n",
    "        self.privileges = privileges  #makes privilege an instance as an attribute in the Admin class\n",
    "        \n",
    "    def show_privileges(self):\n",
    "        \"\"\"shows what an admin has access to\"\"\"\n",
    "        print(\"\\nThis user has the following privileges: \")\n",
    "        if self.privileges:\n",
    "            for privilege in self.privileges:\n",
    "                print(privilege)    \n",
    "        else:\n",
    "            print(\"- This user has no privileges.\")"
   ]
  },
  {
   "cell_type": "code",
   "execution_count": 54,
   "metadata": {
    "collapsed": false
   },
   "outputs": [
    {
     "data": {
      "text/plain": [
       "'\\nGeneral info of user: Drew Picciano teset@gmail.com'"
      ]
     },
     "execution_count": 54,
     "metadata": {},
     "output_type": "execute_result"
    }
   ],
   "source": [
    "admin_user.describe_user()"
   ]
  },
  {
   "cell_type": "code",
   "execution_count": 55,
   "metadata": {
    "collapsed": false
   },
   "outputs": [
    {
     "ename": "AttributeError",
     "evalue": "'list' object has no attribute 'show_privileges'",
     "output_type": "error",
     "traceback": [
      "\u001b[0;31m---------------------------------------------------------------------------\u001b[0m",
      "\u001b[0;31mAttributeError\u001b[0m                            Traceback (most recent call last)",
      "\u001b[0;32m<ipython-input-55-edb19a64c345>\u001b[0m in \u001b[0;36m<module>\u001b[0;34m()\u001b[0m\n\u001b[0;32m----> 1\u001b[0;31m \u001b[0madmin_user\u001b[0m\u001b[1;33m.\u001b[0m\u001b[0mprivileges\u001b[0m\u001b[1;33m.\u001b[0m\u001b[0mshow_privileges\u001b[0m\u001b[1;33m(\u001b[0m\u001b[1;33m)\u001b[0m\u001b[1;33m\u001b[0m\u001b[0m\n\u001b[0m\u001b[1;32m      2\u001b[0m \u001b[0mprint\u001b[0m\u001b[1;33m(\u001b[0m\u001b[1;34m\"\\nAdding privileges...\"\u001b[0m\u001b[1;33m)\u001b[0m\u001b[1;33m\u001b[0m\u001b[0m\n\u001b[1;32m      3\u001b[0m admin_user_privileges = [\n\u001b[1;32m      4\u001b[0m     \u001b[1;34m'can reset passwords'\u001b[0m\u001b[1;33m,\u001b[0m\u001b[1;33m\u001b[0m\u001b[0m\n\u001b[1;32m      5\u001b[0m     \u001b[1;34m'can moderate discussions'\u001b[0m\u001b[1;33m,\u001b[0m\u001b[1;33m\u001b[0m\u001b[0m\n",
      "\u001b[0;31mAttributeError\u001b[0m: 'list' object has no attribute 'show_privileges'"
     ]
    }
   ],
   "source": [
    "admin_user.privileges.show_privileges()\n",
    "print(\"\\nAdding privileges...\")\n",
    "admin_user_privileges = [\n",
    "    'can reset passwords',\n",
    "    'can moderate discussions',\n",
    "    'can suspend accounts'\n",
    "    ]\n",
    "admin_user.privileges.privileges = admin_user_privileges\n",
    "admin_user.privileges.show_privileges()"
   ]
  },
  {
   "cell_type": "code",
   "execution_count": 33,
   "metadata": {
    "collapsed": false
   },
   "outputs": [
    {
     "ename": "ModuleNotFoundError",
     "evalue": "No module named 'sports'",
     "output_type": "error",
     "traceback": [
      "\u001b[0;31m---------------------------------------------------------------------------\u001b[0m",
      "\u001b[0;31mModuleNotFoundError\u001b[0m                       Traceback (most recent call last)",
      "\u001b[0;32m<ipython-input-33-3738460c1205>\u001b[0m in \u001b[0;36m<module>\u001b[0;34m()\u001b[0m\n\u001b[0;32m----> 1\u001b[0;31m \u001b[1;32mfrom\u001b[0m \u001b[0msports\u001b[0m \u001b[1;32mimport\u001b[0m \u001b[0mSports\u001b[0m\u001b[1;33m\u001b[0m\u001b[0m\n\u001b[0m\u001b[1;32m      2\u001b[0m \u001b[0mteam\u001b[0m \u001b[1;33m=\u001b[0m \u001b[0mSports\u001b[0m\u001b[1;33m(\u001b[0m\u001b[1;34m'Oakland Athletics'\u001b[0m \u001b[1;33m,\u001b[0m \u001b[1;34m'Oakland, CA'\u001b[0m\u001b[1;33m)\u001b[0m\u001b[1;33m\u001b[0m\u001b[0m\n\u001b[1;32m      3\u001b[0m \u001b[0mprint\u001b[0m\u001b[1;33m(\u001b[0m\u001b[0mteam\u001b[0m\u001b[1;33m)\u001b[0m\u001b[1;33m\u001b[0m\u001b[0m\n",
      "\u001b[0;31mModuleNotFoundError\u001b[0m: No module named 'sports'"
     ]
    }
   ],
   "source": [
    "x = read() \n",
    "from sports import Sports\n",
    "team = Sports('Oakland Athletics' , 'Oakland, CA')\n",
    "print(team)"
   ]
  },
  {
   "cell_type": "code",
   "execution_count": null,
   "metadata": {
    "collapsed": true
   },
   "outputs": [],
   "source": []
  }
 ],
 "metadata": {
  "kernelspec": {
   "display_name": "Python 3",
   "language": "python",
   "name": "python3"
  },
  "language_info": {
   "codemirror_mode": {
    "name": "ipython",
    "version": 3
   },
   "file_extension": ".py",
   "mimetype": "text/x-python",
   "name": "python",
   "nbconvert_exporter": "python",
   "pygments_lexer": "ipython3",
   "version": "3.6.0"
  }
 },
 "nbformat": 4,
 "nbformat_minor": 2
}
